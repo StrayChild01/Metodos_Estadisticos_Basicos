{
 "cells": [
  {
   "cell_type": "markdown",
   "metadata": {},
   "source": [
    "# Tarea 1\n",
    "\n",
    "1.- Una empresa fabricante de componentes electrónicos, sabe por experiencias previas,  sabe  que  el  18%  de  sus  productos  no  cumple con  las  especificaciones  de  calidad  solicitadas  por  el  departamento  de  calidad,  por  lo  que  dichas  piezas  requieren  un  proceso adicional. Para verificar sus procesos, toma una muestra de 120 piezas y desea  conocer la probabilidad de que:   \n",
    "\n",
    "a. Requieran el proceso adicional más del 20% de sus productos."
   ]
  },
  {
   "cell_type": "code",
   "execution_count": null,
   "metadata": {},
   "outputs": [],
   "source": [
    "P <- .18\n",
    "Q <- 1-P\n",
    "n <- 120\n",
    "p <- .2\n",
    "# ¿p > .20?\n",
    "z_20 <- (p - P) / sqrt ( (P * Q) / n)\n",
    "print( paste(\"z calculado=\", z_20) )\n",
    "print( paste(\"La probabilidad de requerir más del 20% es=\", pnorm(z_20, lower.tail=FALSE)) )"
   ]
  },
  {
   "cell_type": "code",
   "execution_count": null,
   "metadata": {},
   "outputs": [],
   "source": [
    "# Gráficos para mostrar qué onda:\n",
    "l_infer <- -1\n",
    "l_super <- 1\n",
    "\n",
    "x <- seq(l_infer,l_super, by = 0.01)\n",
    "\n",
    "print(x)\n",
    "\n",
    "titulo_grafico <- paste(\"Función de Distribución N(\",l_super, \",\", l_infer, \")\")\n",
    "curve( dnorm(x), col=\"blue\",\n",
    "\tlwd=2, xlab=\"x\", ylab=\"F(x)\", main=titulo_grafico)"
   ]
  },
  {
   "cell_type": "markdown",
   "metadata": {},
   "source": [
    "b. Menos del 15%"
   ]
  },
  {
   "cell_type": "code",
   "execution_count": null,
   "metadata": {},
   "outputs": [],
   "source": [
    "P <- .18\n",
    "Q <- 1-P\n",
    "n <- 120\n",
    "p <- .15\n",
    "# ¿p < .15?\n",
    "z_15 <- (p - P) / sqrt ( (P * Q) / n)\n",
    "print( paste(\"z calculado=\", z_15) )\n",
    "print( paste(\"La probabilidad de requerir menos del 15% es=\",pnorm(z_15, lower.tail=TRUE)) )"
   ]
  },
  {
   "cell_type": "markdown",
   "metadata": {},
   "source": [
    "2.- De  acuerdo  a  un  estudio  preliminar  de  opinión,  se  sabe  que  el  32%  de  los  contribuyentes  de  un  municipio  están  en  contra  de  la  construcción  de  una  planta  tratadora de aguas en cierta zona. Para verificarlo, el municipio toma una encuesta  en 100 viviendas. Determine la probabilidad de que:\n",
    "\n",
    "a. Estén en desacuerdo entre el 25% y 30% de los contribuyentes."
   ]
  },
  {
   "cell_type": "code",
   "execution_count": null,
   "metadata": {},
   "outputs": [],
   "source": [
    "P <- .32\n",
    "Q <- 1-P\n",
    "n <- 100\n",
    "p1 <- .25\n",
    "p2 <- .30\n",
    "# ¿p < .15?\n",
    "z_25 <- (p1 - P) / sqrt ( (P * Q) / n)\n",
    "z_30 <- (p2 - P) / sqrt ( (P * Q) / n)\n",
    "print( paste(\"z_25 calculado=\", z_25) )\n",
    "print( paste(\"z_30 calculado=\", z_30) )\n",
    "prob_25 <- pnorm(z_25, lower.tail=TRUE)\n",
    "prob_30 <- pnorm(z_30, lower.tail=TRUE)\n",
    "prob_25_30 <- prob_30 - prob_25\n",
    "print( paste(\"La probabilidad de desacuerdo entre el 25% y 30% de los contribuyentes es=\", prob_25_30) )"
   ]
  },
  {
   "cell_type": "markdown",
   "metadata": {},
   "source": [
    "b. Estén en contra más del 35% de los contribuyentes"
   ]
  },
  {
   "cell_type": "code",
   "execution_count": null,
   "metadata": {},
   "outputs": [],
   "source": [
    "P <- .32\n",
    "Q <- 1-P\n",
    "n <- 100\n",
    "p <- .35\n",
    "# ¿p < .15?\n",
    "z_35 <- (p1 - P) / sqrt ( (P * Q) / n)\n",
    "\n",
    "print( paste(\"z_35 calculado=\", z_35) )\n",
    "print( paste(\"La probabilidad de que estén en contra más del 35% de los contribuyentes=\",pnorm(z_35, lower.tail=FALSE)) )"
   ]
  }
 ],
 "metadata": {
  "kernelspec": {
   "display_name": "R",
   "language": "R",
   "name": "ir"
  },
  "language_info": {
   "codemirror_mode": "r",
   "file_extension": ".r",
   "mimetype": "text/x-r-source",
   "name": "R",
   "pygments_lexer": "r",
   "version": "3.3.3"
  }
 },
 "nbformat": 4,
 "nbformat_minor": 2
}
