{
 "cells": [
  {
   "cell_type": "markdown",
   "metadata": {},
   "source": [
    "# Tarea 2\n",
    "\n",
    "1.- La Sección de Pruebas de una fábrica automotriz decide estudiar el consumo\n",
    "de combustible en autos de un nuevo modelo en experimentación. Para ello\n",
    "realiza la experiencia de recorrer 100 Km. 35 veces (n = 35) registrando en\n",
    "cada prueba el consumo. Una vez finalizado el experimento, calcula el\n",
    "promedio de consumo en las 35 pruebas obteniendo una media x = 10,8 litros\n",
    "con una desviación estándar s = 1,4 litros Con estos resultados muéstrales,\n",
    "estime el verdadero consumo promedio de nafta en autos de este modelo en\n",
    "particular."
   ]
  },
  {
   "cell_type": "code",
   "execution_count": null,
   "metadata": {},
   "outputs": [],
   "source": [
    "n <- 35\n",
    "x_barra <- 10.8\n",
    "S <- 1.4"
   ]
  },
  {
   "cell_type": "code",
   "execution_count": null,
   "metadata": {},
   "outputs": [],
   "source": [
    "less_than_miu <- x_barra - (1.96 * S / sqrt(n))"
   ]
  },
  {
   "cell_type": "code",
   "execution_count": null,
   "metadata": {},
   "outputs": [],
   "source": [
    "more_than_miu <- x_barra + (1.96 * S / sqrt(n))"
   ]
  },
  {
   "cell_type": "code",
   "execution_count": null,
   "metadata": {},
   "outputs": [],
   "source": [
    "print(paste(less_than_miu,\" < µ < \", more_than_miu))"
   ]
  },
  {
   "cell_type": "markdown",
   "metadata": {},
   "source": [
    "2.- Un investigador médico está llevando a cabo un estudio acerca del efecto de una nueva terapia aplicada a enfermos cardíacos. Una de las variables consideradas es la presión sanguínea en un determinado momento de la aplicación de la terapia. Por tratarse de una terapia muy costosa, el investigador está limitado y solamente la puede aplicar en 10 pacientes.\n",
    "\n",
    "Las mediciones de presión sanguínea registradas fueron:\n",
    "\n",
    "| 1   | 2   | 3   | 4   | 5   |\n",
    "|-----|-----|-----|-----|-----|\n",
    "| 180 | 140 | 140 | 150 | 160 |\n",
    "| 150 | 160 | 150 | 170 | 170 |\n",
    "\n",
    "\n",
    "a) Estime por intervalos el verdadero promedio de la presión sanguínea en pacientes en un determinado estadío de la enfermedad sometidos a la nueva terapia."
   ]
  },
  {
   "cell_type": "code",
   "execution_count": null,
   "metadata": {},
   "outputs": [],
   "source": [
    "n <- 10\n",
    "observaciones <- c(180, 140, 140, 150, 160, 150, 160, 150, 170, 170)\n",
    "x_barra <- sum(observaciones) / n\n",
    "print(paste(\"x_barra =\", x_barra))\n",
    "s_cuadrada <- sum( (observaciones - x_barra) ^ 2 )\n",
    "print(paste(\"s^2 =\", s_cuadrada))\n",
    "s <- sqrt(s_cuadrada)\n",
    "print(paste(\"s =\", s))\n",
    "less_than_miu <- x_barra - (2.262 * s / sqrt(n))\n",
    "more_than_miu <- x_barra + (2.262 * s / sqrt(n))\n",
    "print(paste(less_than_miu,\"< µ <\", more_than_miu))"
   ]
  },
  {
   "cell_type": "markdown",
   "metadata": {},
   "source": [
    "2.- Un periodista especializado en política informa en su programa que ha realizado una encuesta para investigar la posición de los televidentes con respecto a la popularidad de un importante candidato a senador. De los 380\n",
    "encuestados telefónicamente, 325 estaban en contra del candidato y los 55 restantes a favor del mismo.\n",
    "\n",
    "a) Estime la verdadera proporción poblacional favorable al candidato a senador en cuestión."
   ]
  },
  {
   "cell_type": "code",
   "execution_count": null,
   "metadata": {},
   "outputs": [],
   "source": [
    "n <- 380\n",
    "p <- 325 / n\n",
    "q <- 55 / n\n",
    "less_than_P <- p - (1.96 * sqrt( (p*q)/n) )\n",
    "more_than_P <- p + (1.96 * sqrt( (p*q)/n) )\n",
    "print(paste(less_than_P,\" < P < \", more_than_P))"
   ]
  },
  {
   "cell_type": "markdown",
   "metadata": {},
   "source": [
    "El gerente general de una empresa internacional ha estado examinando la cuenta de gastos del personal de los Departamentos de Producción (1) y Comercialización (2), conociendo por datos obtenidos de años anteriores que\n",
    "la desviación estándar para cada departamento es σ1 = 10 y σ2 = 7.\n",
    "\n",
    "Se toma una muestra aleatoria de 5 empleados del Dpto. de Producción y 9 empleados del Dpto. de Comercialización con los siguientes resultados: x̅1 =  150 y x̅2 = 200.\n",
    "\n",
    "a) Determinar, mediante la construcción de un intervalo de confianza para la diferencia de medias, si hay diferencia significativa en los gastos promedio del personal de ambos departamentos con un nivel del 90% si se conoce además que dichos gastos se distribuyen en forma normal."
   ]
  },
  {
   "cell_type": "code",
   "execution_count": null,
   "metadata": {},
   "outputs": [],
   "source": [
    "sigma1 <- 10\n",
    "sigma2 <- 7\n",
    "x_barra1 <- 150\n",
    "x_barra2 <- 200\n",
    "n1 <- 5\n",
    "n2 <- 9\n",
    "sigma_dif_xbarra1_xbarra2_quad <- ((sigma1^2)/n1) + ((sigma2^2)/n2)\n",
    "sigma_dif_xbarra1_xbarra2 <- sqrt(sigma_dif_xbarra1_xbarra2_quad)\n",
    "\n",
    "tstudent <- qt(c(.05, .95), df=(n1+n2-2))\n",
    "less_than_miu1_miu2 <- (x_barra1 - x_barra2) - (sigma_dif_xbarra1_xbarra2 * tstudent)\n",
    "more_than_miu1_miu2 <- (x_barra1 - x_barra2) + (sigma_dif_xbarra1_xbarra2 * tstudent)\n",
    "print(paste(less_than_miu1_miu2,\"< µ1-µ2 <\", more_than_miu1_miu2))"
   ]
  },
  {
   "cell_type": "code",
   "execution_count": null,
   "metadata": {},
   "outputs": [],
   "source": [
    "require(graphics)\n",
    "\n",
    "1 - pt(1:5, df = 1)\n",
    "qt(.975, df = c(1:10,20,50,100,1000))\n",
    "\n",
    "tt <- seq(0, 10, len = 21)\n",
    "ncp <- seq(0, 6, len = 31)\n",
    "ptn <- outer(tt, ncp, function(t, d) pt(t, df = 3, ncp = d))\n",
    "t.tit <- \"Non-central t - Probabilities\"\n",
    "image(tt, ncp, ptn, zlim = c(0,1), main = t.tit)\n",
    "persp(tt, ncp, ptn, zlim = 0:1, r = 2, phi = 20, theta = 200, main = t.tit,\n",
    "      xlab = \"t\", ylab = \"non-centrality parameter\",\n",
    "      zlab = \"Pr(T <= t)\")\n",
    "\n",
    "plot(function(x) dt(x, df = 3, ncp = 2), -3, 11, ylim = c(0, 0.32),\n",
    "     main = \"Non-central t - Density\", yaxs = \"i\")"
   ]
  }
 ],
 "metadata": {
  "kernelspec": {
   "display_name": "R",
   "language": "R",
   "name": "ir"
  },
  "language_info": {
   "codemirror_mode": "r",
   "file_extension": ".r",
   "mimetype": "text/x-r-source",
   "name": "R",
   "pygments_lexer": "r",
   "version": "3.3.3"
  }
 },
 "nbformat": 4,
 "nbformat_minor": 2
}
